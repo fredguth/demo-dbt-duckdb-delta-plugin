{
 "cells": [
  {
   "cell_type": "code",
   "execution_count": 25,
   "metadata": {},
   "outputs": [],
   "source": [
    "from deltalake import DeltaTable\n",
    "\n",
    "dt = DeltaTable(\"/home/aleks/git/open-source/dbt-duckdb-delta-plugin-demo/dbt_duckdb_delta/data/delta_lineitem\")\n",
    "dataset = dt.to_pyarrow_dataset()\n"
   ]
  },
  {
   "cell_type": "code",
   "execution_count": 26,
   "metadata": {},
   "outputs": [],
   "source": [
    "import duckdb\n",
    "\n",
    "ex_data = duckdb.arrow(dataset)"
   ]
  },
  {
   "cell_type": "code",
   "execution_count": 27,
   "metadata": {},
   "outputs": [
    {
     "name": "stdout",
     "output_type": "stream",
     "text": [
      "┌──────────────┐\n",
      "│ count_star() │\n",
      "│    int64     │\n",
      "├──────────────┤\n",
      "│      6001215 │\n",
      "└──────────────┘\n",
      "\n"
     ]
    }
   ],
   "source": [
    "print(duckdb.sql(\"\"\"\n",
    "           SELECT count(*) from ex_data\n",
    "           \"\"\"))#.explain())"
   ]
  },
  {
   "cell_type": "code",
   "execution_count": 17,
   "metadata": {},
   "outputs": [
    {
     "name": "stdout",
     "output_type": "stream",
     "text": [
      "┌───────────────────────────┐\n",
      "│    UNGROUPED_AGGREGATE    │\n",
      "│   ─ ─ ─ ─ ─ ─ ─ ─ ─ ─ ─   │\n",
      "│        count_star()       │\n",
      "└─────────────┬─────────────┘                             \n",
      "┌─────────────┴─────────────┐\n",
      "│         PROJECTION        │\n",
      "│   ─ ─ ─ ─ ─ ─ ─ ─ ─ ─ ─   │\n",
      "│             42            │\n",
      "└─────────────┬─────────────┘                             \n",
      "┌─────────────┴─────────────┐\n",
      "│        ARROW_SCAN         │\n",
      "│   ─ ─ ─ ─ ─ ─ ─ ─ ─ ─ ─   │\n",
      "│           EC: 1           │\n",
      "└───────────────────────────┘                             \n",
      "\n",
      "\n"
     ]
    }
   ],
   "source": [
    "print(duckdb.sql(\"\"\"\n",
    "           SELECT count(*) from ex_data\n",
    "           \"\"\").explain())"
   ]
  },
  {
   "cell_type": "code",
   "execution_count": null,
   "metadata": {},
   "outputs": [],
   "source": []
  }
 ],
 "metadata": {
  "kernelspec": {
   "display_name": ".venv",
   "language": "python",
   "name": "python3"
  },
  "language_info": {
   "codemirror_mode": {
    "name": "ipython",
    "version": 3
   },
   "file_extension": ".py",
   "mimetype": "text/x-python",
   "name": "python",
   "nbconvert_exporter": "python",
   "pygments_lexer": "ipython3",
   "version": "3.11.5"
  }
 },
 "nbformat": 4,
 "nbformat_minor": 2
}

{
 "cells": [
  {
   "cell_type": "code",
   "execution_count": 1,
   "metadata": {},
   "outputs": [
    {
     "name": "stdout",
     "output_type": "stream",
     "text": [
      "┌────────────┬───────────┬───────────┬──────────────┬───┬───────────────────┬────────────┬──────────────────────┐\n",
      "│ l_orderkey │ l_partkey │ l_suppkey │ l_linenumber │ … │  l_shipinstruct   │ l_shipmode │      l_comment       │\n",
      "│   int32    │   int32   │   int32   │    int32     │   │      varchar      │  varchar   │       varchar        │\n",
      "├────────────┼───────────┼───────────┼──────────────┼───┼───────────────────┼────────────┼──────────────────────┤\n",
      "│    5998726 │    104203 │      6714 │            5 │ … │ TAKE BACK RETURN  │ MAIL       │ the slyly s          │\n",
      "│    5998726 │    124262 │      4263 │            6 │ … │ DELIVER IN PERSON │ TRUCK      │ nic, regular warth…  │\n",
      "│    5998726 │     65435 │      7942 │            7 │ … │ DELIVER IN PERSON │ SHIP       │  deposits could h    │\n",
      "│    5998727 │    161800 │      1801 │            1 │ … │ NONE              │ FOB        │  slyly special the…  │\n",
      "│    5998727 │    166768 │      9285 │            2 │ … │ NONE              │ RAIL       │ ing asymptotes: bu…  │\n",
      "│    5998727 │     55113 │      7619 │            3 │ … │ DELIVER IN PERSON │ SHIP       │ pecial cou           │\n",
      "│    5998727 │     70390 │       391 │            4 │ … │ COLLECT COD       │ REG AIR    │ dependencies. quic…  │\n",
      "│    5998752 │    157573 │      2604 │            1 │ … │ TAKE BACK RETURN  │ MAIL       │  instructions. fur…  │\n",
      "│    5998752 │    112982 │      2983 │            2 │ … │ NONE              │ SHIP       │ s cajole above the…  │\n",
      "│    5998753 │     29539 │      4544 │            1 │ … │ NONE              │ SHIP       │ s. bold theodolite…  │\n",
      "│       ·    │       ·   │        ·  │            · │ · │  ·                │  ·         │         ·            │\n",
      "│       ·    │       ·   │        ·  │            · │ · │  ·                │  ·         │         ·            │\n",
      "│       ·    │       ·   │        ·  │            · │ · │  ·                │  ·         │         ·            │\n",
      "│    5998944 │    135444 │      7958 │            3 │ … │ COLLECT COD       │ AIR        │ ctions. final, unu   │\n",
      "│    5998944 │    198671 │      3710 │            4 │ … │ COLLECT COD       │ TRUCK      │ ts. carefully iron   │\n",
      "│    5998945 │    108102 │       613 │            1 │ … │ TAKE BACK RETURN  │ FOB        │ nal instru           │\n",
      "│    5998945 │     62959 │      7972 │            2 │ … │ TAKE BACK RETURN  │ RAIL       │ carefully final ac…  │\n",
      "│    5998945 │    147134 │      2163 │            3 │ … │ TAKE BACK RETURN  │ RAIL       │ sleep regularly fu…  │\n",
      "│    5998946 │    148582 │      6125 │            1 │ … │ NONE              │ REG AIR    │ uests nag fur        │\n",
      "│    5998946 │     11069 │      8573 │            2 │ … │ COLLECT COD       │ TRUCK      │ tructions was blit…  │\n",
      "│    5998947 │     35139 │      5140 │            1 │ … │ COLLECT COD       │ SHIP       │ ccording to          │\n",
      "│    5998947 │    167003 │      4552 │            2 │ … │ NONE              │ REG AIR    │ packages. carefull…  │\n",
      "│    5998947 │      2830 │      5331 │            3 │ … │ DELIVER IN PERSON │ RAIL       │ accounts h           │\n",
      "├────────────┴───────────┴───────────┴──────────────┴───┴───────────────────┴────────────┴──────────────────────┤\n",
      "│ 200 rows (20 shown)                                                                      16 columns (7 shown) │\n",
      "└───────────────────────────────────────────────────────────────────────────────────────────────────────────────┘\n",
      "\n"
     ]
    }
   ],
   "source": [
    "from deltalake import DeltaTable\n",
    "import duckdb\n",
    "\n",
    "dt = DeltaTable(\"/home/aleks/git/my-projects/banchmark-utils/utils/sf1/delta/lineitem\")\n",
    "dataset = dt.to_pyarrow_dataset()\n",
    "df = duckdb.arrow(dataset)\n",
    "\n",
    "duckdb.sql(\"SELECT * FROM df limit 200\").show()"
   ]
  },
  {
   "cell_type": "code",
   "execution_count": null,
   "metadata": {},
   "outputs": [],
   "source": []
  }
 ],
 "metadata": {
  "kernelspec": {
   "display_name": ".venv",
   "language": "python",
   "name": "python3"
  },
  "language_info": {
   "codemirror_mode": {
    "name": "ipython",
    "version": 3
   },
   "file_extension": ".py",
   "mimetype": "text/x-python",
   "name": "python",
   "nbconvert_exporter": "python",
   "pygments_lexer": "ipython3",
   "version": "3.11.5"
  }
 },
 "nbformat": 4,
 "nbformat_minor": 2
}
